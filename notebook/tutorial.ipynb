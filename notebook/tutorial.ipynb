{
  "cells": [
    {
      "cell_type": "markdown",
      "metadata": {},
      "source": [
        "## Tumor Elastic Modulus Prediction using MechanoGEPred\n",
        "This tutorial demonstrates how to predict tumor elastic modulus using gene expression data from TCGA-COAD samples with the MechanoGEPred model."
      ]
    },
    {
      "cell_type": "markdown",
      "metadata": {},
      "source": [
        "### 1. Load MechanoGEPred Model\n",
        "**Load trained model and required resources**"
      ]
    },
    {
      "cell_type": "code",
      "execution_count": 1,
      "metadata": {},
      "outputs": [
        {
          "name": "stdout",
          "output_type": "stream",
          "text": [
            "Loaded model with 344 mechanosensitive genes\n"
          ]
        }
      ],
      "source": [
        "import os\n",
        "import numpy as np\n",
        "import pandas as pd\n",
        "import joblib\n",
        "\n",
        "# Change working directory\n",
        "os.chdir(\"/mnt/Storage/home/zhouxiaoyan/github/MechanoGEPred\")\n",
        "\n",
        "# Verify model paths\n",
        "model_path = 'model/model.joblib'\n",
        "scaler_path = 'model/scaler.joblib'\n",
        "gene_list_path = 'data/mechano_genes_list.txt'\n",
        "\n",
        "if not all(os.path.exists(p) for p in [model_path, scaler_path, gene_list_path]):\n",
        "    raise FileNotFoundError(\"Required model files missing. Check repository structure\")\n",
        "\n",
        "# Load model components\n",
        "model = joblib.load(model_path)\n",
        "scaler = joblib.load(scaler_path)\n",
        "mechanosensitive_genes = pd.read_table(gene_list_path, header=None)[0].tolist()\n",
        "\n",
        "print(f\"Loaded model with {len(mechanosensitive_genes)} mechanosensitive genes\")"
      ]
    },
    {
      "cell_type": "markdown",
      "metadata": {},
      "source": [
        "### 2. Load TCGA Dataset\n",
        "**Import and validate gene expression data**"
      ]
    },
    {
      "cell_type": "code",
      "execution_count": 2,
      "metadata": {},
      "outputs": [
        {
          "name": "stdout",
          "output_type": "stream",
          "text": [
            "Loaded 453 samples with 343 features\n"
          ]
        }
      ],
      "source": [
        "data_path = 'data/example_data.csv'\n",
        "\n",
        "if not os.path.exists(data_path):\n",
        "    raise FileNotFoundError(f\"Data file {data_path} not found\")\n",
        "\n",
        "tcga_data = pd.read_csv(data_path, index_col=0)\n",
        "\n",
        "# Data validation\n",
        "print(f\"Loaded {tcga_data.shape[0]} samples with {tcga_data.shape[1]} features\")"
      ]
    },
    {
      "cell_type": "markdown",
      "metadata": {},
      "source": [
        "### 3. Data Preprocessing\n",
        "**Prepare data for prediction**\n",
        "\n",
        "Steps:\n",
        "1. Select mechanosensitive genes\n",
        "2. Handle missing genes (zero-fill)\n",
        "3. Apply feature scaling"
      ]
    },
    {
      "cell_type": "code",
      "execution_count": 3,
      "metadata": {},
      "outputs": [
        {
          "name": "stdout",
          "output_type": "stream",
          "text": [
            "Data preprocessing complete. Matrix shape: (453, 344)\n"
          ]
        }
      ],
      "source": [
        "# Select required genes and handle missing values\n",
        "try:\n",
        "    processed_data = tcga_data.reindex(columns=mechanosensitive_genes, fill_value=0)\n",
        "except KeyError as e:\n",
        "    print(f\"Critical gene missing: {e}\")\n",
        "    raise\n",
        "\n",
        "# Apply standardization\n",
        "# Bulk RNA-seq: use the scaler from model training for consistency\n",
        "scaled_data = scaler.transform(processed_data)\n",
        "print(f\"Data preprocessing complete. Matrix shape: {scaled_data.shape}\")\n",
        "\n",
        "# if using single-cell RNA-seq: refit a new scaler due to distributional differences\n",
        "# scaler = StandardScaler()\n",
        "# scaled_data = scaler.fit_transform(processed_data)"
      ]
    },
    {
      "cell_type": "markdown",
      "metadata": {},
      "source": [
        "### 4. Elastic Modulus Prediction\n",
        "**Run model inference**"
      ]
    },
    {
      "cell_type": "code",
      "execution_count": 4,
      "metadata": {},
      "outputs": [
        {
          "name": "stdout",
          "output_type": "stream",
          "text": [
            "Generated 453 predictions\n",
            "Prediction range: 0.68-3.31 kPa\n"
          ]
        }
      ],
      "source": [
        "predictions = model.predict(scaled_data)\n",
        "print(f\"Generated {len(predictions)} predictions\")\n",
        "print(f\"Prediction range: {np.min(predictions):.2f}-{np.max(predictions):.2f} kPa\")"
      ]
    },
    {
      "cell_type": "markdown",
      "metadata": {},
      "source": [
        "### 5. Results Analysis\n",
        "**Explore and save prediction results**"
      ]
    },
    {
      "cell_type": "code",
      "execution_count": 5,
      "metadata": {},
      "outputs": [
        {
          "name": "stdout",
          "output_type": "stream",
          "text": [
            "\n",
            "Prediction Statistics:\n",
            "count    453.000000\n",
            "mean       1.439787\n",
            "std        0.441944\n",
            "min        0.680361\n",
            "25%        1.161718\n",
            "50%        1.290134\n",
            "75%        1.549432\n",
            "max        3.306985\n",
            "Name: Predicted_Modulus_kPa, dtype: float64\n",
            "\n",
            "Results saved to: output/TCGA_COAD_predictions.csv\n"
          ]
        }
      ],
      "source": [
        "# Create results dataframe\n",
        "results = pd.DataFrame(predictions, columns=['Predicted_Modulus_kPa'])\n",
        "\n",
        "# Statistical summary\n",
        "print(\"\\nPrediction Statistics:\")\n",
        "print(results['Predicted_Modulus_kPa'].describe())\n",
        "\n",
        "# Save results\n",
        "output_dir = 'output'\n",
        "results.to_csv(f'{output_dir}/TCGA_COAD_predictions.csv', index=False)\n",
        "print(f\"\\nResults saved to: {output_dir}/TCGA_COAD_predictions.csv\")"
      ]
    }
  ],
  "metadata": {
    "kernelspec": {
      "display_name": "mechanical",
      "language": "python",
      "name": "python3"
    },
    "language_info": {
      "codemirror_mode": {
        "name": "ipython",
        "version": 3
      },
      "file_extension": ".py",
      "mimetype": "text/x-python",
      "name": "python",
      "nbconvert_exporter": "python",
      "pygments_lexer": "ipython3",
      "version": "3.11.10"
    }
  },
  "nbformat": 4,
  "nbformat_minor": 4
}
